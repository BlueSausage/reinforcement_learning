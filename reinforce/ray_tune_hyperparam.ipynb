{
 "cells": [
  {
   "cell_type": "code",
   "execution_count": 3,
   "metadata": {},
   "outputs": [],
   "source": [
    "import ray\n",
    "from ray import tune\n",
    "import gymnasium as gym\n",
    "from agent import Agent\n",
    "import itertools"
   ]
  },
  {
   "cell_type": "code",
   "execution_count": null,
   "metadata": {},
   "outputs": [],
   "source": [
    "def train_agent(config):\n",
    "    \"\"\"\n",
    "    \"\"\"\n",
    "    env = gym.make('LunarLander-v3', continuous=False, enable_wind=False)\n",
    "    \n",
    "    agent = Agent(\n",
    "        env,\n",
    "        hidden_size=config['hidden_size'],\n",
    "        learning_rate=config['learning_rate'],\n",
    "        gamma=config['gamma'],\n",
    "        num_episodes=config.get('num_episodes', 1000),\n",
    "        print_every=100\n",
    "    )\n",
    "    \n",
    "    scores, avg_scores = agent.learn(ignore_threshold=True)\n",
    "    \n",
    "    final_avg_score = avg_scores[-1]\n",
    "    tune.report({\"final_avg_score\":final_avg_score})\n",
    "    \n",
    "    env.close()"
   ]
  },
  {
   "cell_type": "code",
   "execution_count": null,
   "metadata": {},
   "outputs": [],
   "source": [
    "ray.init(ignore_reinit_error=True) # Ignore error if already initialized\n",
    "\n",
    "hidden_layer = [list(x) for x in itertools.permutations([32, 64, 128], 2)]\n",
    "\n",
    "analysis = tune.run(\n",
    "    train_agent,\n",
    "    config={\n",
    "        'learning_rate': tune.grid_search([0.001, 0.003]),\n",
    "        'hidden_size': tune.grid_search(hidden_layer),\n",
    "        'gamma': tune.grid_search([0.999, 0.99]),\n",
    "        'num_episodes': 1000\n",
    "    },\n",
    "    metric='final_avg_score',\n",
    "    mode='max',\n",
    "    num_samples=1,\n",
    "    verbose=1\n",
    ")\n",
    "print('Best hyperparameters found were: ', analysis.get_best_config(metric='final_avg_score', mode='max'))"
   ]
  }
 ],
 "metadata": {
  "kernelspec": {
   "display_name": "venv",
   "language": "python",
   "name": "python3"
  },
  "language_info": {
   "codemirror_mode": {
    "name": "ipython",
    "version": 3
   },
   "file_extension": ".py",
   "mimetype": "text/x-python",
   "name": "python",
   "nbconvert_exporter": "python",
   "pygments_lexer": "ipython3",
   "version": "3.12.7"
  }
 },
 "nbformat": 4,
 "nbformat_minor": 2
}
